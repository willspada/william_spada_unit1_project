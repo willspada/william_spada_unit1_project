{
 "cells": [
  {
   "cell_type": "markdown",
   "metadata": {},
   "source": [
    "<img src=\"http://imgur.com/1ZcRyrc.png\" style=\"float: left; margin: 20px; height: 55px\">\n",
    "\n",
    "# Project 1: Python Coding Exercises\n",
    "\n",
    "_Authors: Joseph Nelson (DC) _\n",
    "\n",
    "---"
   ]
  },
  {
   "cell_type": "markdown",
   "metadata": {},
   "source": [
    "The following code challenges are drawn from common exercises used in technical interviews.\n",
    "\n",
    "Please note that there may be several ways to approach each challenge. If you get stuck, try mapping out your approach in pseudocode first. Finally, while solutions to problems like these may be found online, remember that if you copy/paste code that you can't explain, you'll be missing out on the point of the project. The only way to truly learn a new skill is through practice, trial, and error - we can only help you improve by understanding where you are having trouble."
   ]
  },
  {
   "cell_type": "markdown",
   "metadata": {},
   "source": [
    "### Challenge 1: Largest Palindrome\n",
    "A palindromic number reads the same both ways. For example, 1234321 is a palindrome. The largest palindrome made from the product of two two-digit numbers is 9009 = 91 × 99. Find the largest palindrome made from the product of two three-digit numbers. Afterward, write a brief explanation walking through your code's logic in markdown."
   ]
  },
  {
   "cell_type": "code",
   "execution_count": 192,
   "metadata": {},
   "outputs": [
    {
     "data": {
      "text/plain": [
       "906609"
      ]
     },
     "execution_count": 192,
     "metadata": {},
     "output_type": "execute_result"
    }
   ],
   "source": [
    "def isPalindrome(num):\n",
    "    if str(num) == str(num)[::-1]:\n",
    "        return True\n",
    "    \n",
    "def largest_palindrome(min_num, max_num):\n",
    "    palindrome_holder = 0\n",
    "    x_val = 0\n",
    "    y_val = 0\n",
    "\n",
    "    for x in range(max_num, min_num, -1):\n",
    "        for y in range(max_num, min_num, -1):\n",
    "            if x < x_val and y < y_val:\n",
    "                break\n",
    "            elif isPalindrome(x*y):\n",
    "                if x*y > palindrome_holder:\n",
    "                    palindrome_holder = x*y\n",
    "                    x_val = x\n",
    "                    y_val = y\n",
    "                break\n",
    "    return palindrome_holder\n",
    "\n",
    "largest_palindrome(100,999)"
   ]
  },
  {
   "cell_type": "markdown",
   "metadata": {},
   "source": [
    "1. The largest_palindrome function accepts two inputs, a minimum number and a meximum number - if looking for the largest palindrome that is the sum of two three digit values, this would be 100 & 999\n",
    "\n",
    "2. In order to be a palindrome, the number from left to right must be the same as the number from right to left - the isPalindrome function checks this\n",
    "\n",
    "3. If the product of the two current values (x & y) would not be create a number that is larger than the current largest palindrome, break the loop and move onto the next number in the range. \n",
    "\n",
    "-- by breaking the loop whenever the product of these two values (x & y) is less than the current largest palindrome, the code can be executed faster & on larger number ranges"
   ]
  },
  {
   "cell_type": "markdown",
   "metadata": {},
   "source": [
    "\n",
    "### Challenge 2: Summation of Primes\n",
    "The sum of the primes below 10 is 2 + 3 + 5 + 7 = 17. Find the sum of all the primes below 2,000. Afterward, write a brief explanation walking through your code's logic in markdown."
   ]
  },
  {
   "cell_type": "code",
   "execution_count": 193,
   "metadata": {},
   "outputs": [
    {
     "data": {
      "text/plain": [
       "277051"
      ]
     },
     "execution_count": 193,
     "metadata": {},
     "output_type": "execute_result"
    }
   ],
   "source": [
    "import math\n",
    "def is_prime(number):\n",
    "    is_prime_returns = []\n",
    "    for divisor in range(2,int(math.sqrt(number))+1):\n",
    "        if number%divisor == 0:\n",
    "            is_prime_returns.append(\"Not Prime\")\n",
    "            break\n",
    "        else:\n",
    "            is_prime_returns.append(\"Prime\")\n",
    "    if \"Not Prime\" in is_prime_returns:\n",
    "        return False\n",
    "    else:\n",
    "        return True\n",
    "\n",
    "def sum_of_primes(max_num):\n",
    "    primes = []\n",
    "    for number in range(0,max_num):\n",
    "        if is_prime(number):\n",
    "            primes.append(number)\n",
    "    return sum(primes)\n",
    "\n",
    "sum_of_primes(2000)"
   ]
  },
  {
   "cell_type": "markdown",
   "metadata": {},
   "source": [
    "Logic: \n",
    "1. Define the range using a max_num input\n",
    "2. Check which numbers in the range are prime use a primality test\n",
    "    - the is_prime() function performs a primality test on each number\n",
    "    - if a number is divisable by any number between 2 and its squareroot, it is not prime\n",
    "    - a check is done on every divisor between 2 and the squareroot of the number, if the number divides evenly into any of the divisors, add \"Not Prime\" to a list, otherwise add \"Prime\" to the list\n",
    "    - Check the list, if \"Not Prime\" is in the list, return False, otherwise return True (prime)\n",
    "3. Store every prime number in a list and then return the sum of the list"
   ]
  },
  {
   "cell_type": "markdown",
   "metadata": {},
   "source": [
    "### Challenge 3: Multiples of 3 and 5\n",
    "If we list all of the natural numbers below 10 that are multiples of 3 or 5, we get 3, 5, 6, and 9. The sum of these multiples is 23. Find the sum of all the multiples of 3 or 5 below 1,000. Afterward, write a brief explanation walking through your code's logic in markdown."
   ]
  },
  {
   "cell_type": "code",
   "execution_count": 289,
   "metadata": {},
   "outputs": [
    {
     "data": {
      "text/plain": [
       "233168"
      ]
     },
     "execution_count": 289,
     "metadata": {},
     "output_type": "execute_result"
    }
   ],
   "source": [
    "def divisable(val):\n",
    "    if val%3 == 0 or val%5 == 0:\n",
    "        return True\n",
    "    else:\n",
    "        return False\n",
    "\n",
    "def sum_multiples():\n",
    "    store = []\n",
    "    for x in range(1,1000):\n",
    "        if divisable(x):\n",
    "            store.append(x)\n",
    "        else:\n",
    "            pass\n",
    "    return sum(store)\n",
    "\n",
    "sum_multiples()"
   ]
  },
  {
   "cell_type": "markdown",
   "metadata": {},
   "source": [
    "Logic: \n",
    "1. check if the number is divisable by 3 or 5\n",
    "2. if the number is divisable by 3 or 5, store it in a list\n",
    "3. once done checking all numbers in the range, sum the list of numbers that were divisable by 3 or 5"
   ]
  },
  {
   "cell_type": "markdown",
   "metadata": {},
   "source": [
    "### Challenge 4: String Compressor\n",
    "Implement a method to perform basic string compression using the counts of repeated characters. (This is called run-length encoding.) For example, the string \"aabcccccaaa\" would become a2b1c5a3. If the “compressed” string would not become smaller than the original string, your method should return the original string. You can assume the string has only uppercase and lowercase letters (a–z). Specify whether your solution is case sensitive or case insensitive and what you would need to change to make it the other. Afterward, write a brief explanation walking through your code's logic in markdown."
   ]
  },
  {
   "cell_type": "code",
   "execution_count": 287,
   "metadata": {},
   "outputs": [
    {
     "data": {
      "text/plain": [
       "'a2b1C1c4a3'"
      ]
     },
     "execution_count": 287,
     "metadata": {},
     "output_type": "execute_result"
    }
   ],
   "source": [
    "def string_compressor(string):\n",
    "    \n",
    "    #variable above for loop to store compressed string\n",
    "    compressed_string = \"\"\n",
    "    \n",
    "    #set initial count of occurance of letter to 1\n",
    "    letter_count = 1\n",
    "\n",
    "    #Add in first character\n",
    "    compressed_string += string[0]\n",
    "\n",
    "    #iterate through string\n",
    "    #len(string) - 1 since string is 0-index and ...\n",
    "    #...so that if string[i] == string[i+1] doesnt raise an error when on the last letter\n",
    "    for i in range(len(string)-1):\n",
    "        #check to see if current letter and next letter are the same\n",
    "        if(string[i] == string[i+1]):\n",
    "            #increase letter count by 1\n",
    "            letter_count+=1\n",
    "        else:\n",
    "            #once the letter changes, add the number of times that letter occured in a row to the compressed string\n",
    "            compressed_string += str(letter_count)\n",
    "            #add the next letter to the compressed string\n",
    "            compressed_string += string[i+1]\n",
    "            #reset letter count to 1\n",
    "            letter_count = 1\n",
    "    \n",
    "    #add the final letter's count to the compressed string\n",
    "    if(letter_count > 1):\n",
    "        compressed_string += str(letter_count)\n",
    "    else: \n",
    "        compressed_string += '1'\n",
    "    \n",
    "    #check if compressed string is shorter than original string\n",
    "    if len(compressed_string) < len(string):\n",
    "        return compressed_string\n",
    "    else:\n",
    "        return string\n",
    "string_compressor(\"aabCccccaaa\")"
   ]
  },
  {
   "cell_type": "markdown",
   "metadata": {},
   "source": [
    "Logic:\n",
    "The string_compressor function checks how many times a letter occurs consecutively in a string\n",
    "1. Loop through each index in a string and compare the letter at that index with the next index \n",
    "2. Increase the letter_count by 1 if these two values are equal\n",
    "    - Solution is  case sensitive since it does not use .lower() when comparing letters\n",
    "3. Once the letter changes, add the total count to the compressed string and then add the next letter to the compressed string\n",
    "4. If the combined letter-count string is smaller than the original string, return it\n",
    "\n"
   ]
  },
  {
   "cell_type": "markdown",
   "metadata": {},
   "source": [
    "### Challenge 5: FizzBuzz\n",
    "\n",
    "Write a program that prints all of the numbers from 1 to 100. For multiples of 3, instead of the number, print \"Fizz;\" for multiples of 5, print \"Buzz.\" For numbers that are multiples of both 3 and 5, print \"FizzBuzz.\" Afterward, write a brief explanation walking through your code's logic in markdown."
   ]
  },
  {
   "cell_type": "code",
   "execution_count": 195,
   "metadata": {},
   "outputs": [
    {
     "name": "stdout",
     "output_type": "stream",
     "text": [
      "1\n",
      "2\n",
      "Fizz\n",
      "4\n",
      "Buzz\n",
      "Fizz\n",
      "7\n",
      "8\n",
      "Fizz\n",
      "Buzz\n",
      "11\n",
      "Fizz\n",
      "13\n",
      "14\n",
      "FizzBuzz\n",
      "16\n",
      "17\n",
      "Fizz\n",
      "19\n",
      "Buzz\n",
      "Fizz\n",
      "22\n",
      "23\n",
      "Fizz\n",
      "Buzz\n",
      "26\n",
      "Fizz\n",
      "28\n",
      "29\n",
      "FizzBuzz\n",
      "31\n",
      "32\n",
      "Fizz\n",
      "34\n",
      "Buzz\n",
      "Fizz\n",
      "37\n",
      "38\n",
      "Fizz\n",
      "Buzz\n",
      "41\n",
      "Fizz\n",
      "43\n",
      "44\n",
      "FizzBuzz\n",
      "46\n",
      "47\n",
      "Fizz\n",
      "49\n",
      "Buzz\n",
      "Fizz\n",
      "52\n",
      "53\n",
      "Fizz\n",
      "Buzz\n",
      "56\n",
      "Fizz\n",
      "58\n",
      "59\n",
      "FizzBuzz\n",
      "61\n",
      "62\n",
      "Fizz\n",
      "64\n",
      "Buzz\n",
      "Fizz\n",
      "67\n",
      "68\n",
      "Fizz\n",
      "Buzz\n",
      "71\n",
      "Fizz\n",
      "73\n",
      "74\n",
      "FizzBuzz\n",
      "76\n",
      "77\n",
      "Fizz\n",
      "79\n",
      "Buzz\n",
      "Fizz\n",
      "82\n",
      "83\n",
      "Fizz\n",
      "Buzz\n",
      "86\n",
      "Fizz\n",
      "88\n",
      "89\n",
      "FizzBuzz\n",
      "91\n",
      "92\n",
      "Fizz\n",
      "94\n",
      "Buzz\n",
      "Fizz\n",
      "97\n",
      "98\n",
      "Fizz\n",
      "Buzz\n"
     ]
    }
   ],
   "source": [
    "def fizz(val):\n",
    "    if val%3 == 0:\n",
    "        return True\n",
    "    else:\n",
    "        return False\n",
    "    \n",
    "def buzz(val):\n",
    "    if val%5 == 0:\n",
    "        return True\n",
    "    else:\n",
    "        return False\n",
    "    \n",
    "def fizzbuzz(val):\n",
    "    if fizz(val) and buzz(val):\n",
    "        return True\n",
    "    else:\n",
    "        return False\n",
    "\n",
    "def challenge5():\n",
    "    for x in range(1,101):\n",
    "        if fizzbuzz(x):\n",
    "            print(\"FizzBuzz\")\n",
    "        elif fizz(x):\n",
    "            print(\"Fizz\")\n",
    "        elif buzz(x):\n",
    "            print(\"Buzz\")\n",
    "        else: \n",
    "            print(str(x))\n",
    "challenge5()"
   ]
  },
  {
   "cell_type": "markdown",
   "metadata": {},
   "source": [
    "Logic: \n",
    "\n",
    "1. Check if the number is divisable by 3 AND 5\n",
    "    - print \"fizzbuzz\" if this is True, otherwise...\n",
    "2. Check if the number is divisable by 3\n",
    "    - print \"fizz\" if this is True, otherwise...\n",
    "3. Check if the number is divisable by 5\n",
    "    - print \"buzz\" if this is True, otherwise...\n",
    "4. If the number is not divisable by 3 OR 5\n",
    "    - print the number "
   ]
  }
 ],
 "metadata": {
  "anaconda-cloud": {},
  "kernelspec": {
   "display_name": "Python 3",
   "language": "python",
   "name": "python3"
  },
  "language_info": {
   "codemirror_mode": {
    "name": "ipython",
    "version": 3
   },
   "file_extension": ".py",
   "mimetype": "text/x-python",
   "name": "python",
   "nbconvert_exporter": "python",
   "pygments_lexer": "ipython3",
   "version": "3.6.6"
  }
 },
 "nbformat": 4,
 "nbformat_minor": 2
}
